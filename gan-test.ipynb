{
 "cells": [
  {
   "cell_type": "code",
   "execution_count": null,
   "metadata": {},
   "outputs": [],
   "source": [
    ""
   ]
  },
  {
   "cell_type": "code",
   "execution_count": 1,
   "metadata": {},
   "outputs": [
    {
     "name": "stdout",
     "output_type": "stream",
     "text": [
      "Extracting MNIST_data/train-images-idx3-ubyte.gz\n"
     ]
    },
    {
     "name": "stdout",
     "output_type": "stream",
     "text": [
      "Extracting MNIST_data/train-labels-idx1-ubyte.gz\nExtracting MNIST_data/t10k-images-idx3-ubyte.gz\nExtracting MNIST_data/t10k-labels-idx1-ubyte.gz\n"
     ]
    }
   ],
   "source": [
    "import tensorflow as tf\n",
    "import numpy as np\n",
    "from tensorflow.examples.tutorials.mnist import input_data\n",
    "\n",
    "# Import data\n",
    "mnist = input_data.read_data_sets(\"MNIST_data/\", one_hot=True)"
   ]
  },
  {
   "cell_type": "code",
   "execution_count": 2,
   "metadata": {
    "collapsed": true
   },
   "outputs": [],
   "source": [
    "def weight_variable(shape):\n",
    "    \"\"\"weight_variable generates a weight variable of a given shape.\"\"\"\n",
    "    initial = tf.truncated_normal(shape, stddev=0.1)\n",
    "    return tf.Variable(initial)\n",
    "\n",
    "def bias_variable(shape):\n",
    "    \"\"\"bias_variable generates a bias variable of a given shape.\"\"\"\n",
    "    initial = tf.constant(0.1, shape=shape)\n",
    "    return tf.Variable(initial)"
   ]
  },
  {
   "cell_type": "code",
   "execution_count": null,
   "metadata": {},
   "outputs": [],
   "source": [
    "def fully_connected_layer(x, in_dim, out_dim, activation=tf.nn.relu):\n",
    "    W = weight_variable([in_dim, out_dim])\n",
    "    b = bias_variable([out_dim])\n",
    "    h = tf.matmul(x, W) + b\n",
    "    return activation(h)\n",
    "\n",
    "def generator(noise):\n",
    "    # todo: implement MLP outputting an image\n",
    "    h1 = fully_connected_layer(noise, 100, 128)\n",
    "    h2 = fully_connected_layer(h1, 128, 784, activation=tf.nn.sigmoid)\n",
    "    return h2\n",
    "\n",
    "\n",
    "def discriminator(images):\n",
    "    # TODO: imoplement MLP outputting a classification (real or fake)\n",
    "    h1 = fully_connected_layer(images, 784, 128)\n",
    "    h2 = fully_connected_layer(h1, 128, 1, activation=tf.nn.sigmoid)\n",
    "    return h2\n",
    "\n",
    "def build_gan():\n",
    "    random_noise = tf.placeholder(tf.float32, [None, 100])\n",
    "    \n",
    "    with tf.variable_scope(\"generator\"):\n",
    "        \n",
    "    \n",
    "    \n",
    "        fake_image = generator(random_noise)\n",
    "    real_images = tf.placeholder(tf.float32, [None, 784])\n",
    "    disc_on_real = discriminator(real_images)\n",
    "    disc_on_fake = discriminator(fake_image)\n",
    "    # generator, discriminator\n",
    "    \n",
    "    # Compute how well our generator and our discriminator did for this batch\n",
    "    g_loss = -tf.reduce_mean(tf.log(disc_on_fake))\n",
    "    d_loss = -tf.reduce_mean(tf.log(disc_on_real) + tf.log(1. - disc_on_fake))# how accurate it is\n",
    "    \n",
    "    # Optimize\n",
    "    optimize_g = tf.train.AdamOptimizer().minimize(g_loss, var_list=[])\n",
    "    optimize_d = tf.train.AdamOptimizer().minimize(d_loss, var_list=[])\n",
    "    \n",
    "    return {\n",
    "        'random_noise': random_noise,\n",
    "        'real_image': real_images,\n",
    "        'optimize_g': optimize_g,\n",
    "        'optimize_d': optimize_d,\n",
    "    }\n",
    "    \n",
    "model = build_gan()\n",
    "\n",
    "init = tf.global_variables_initializer()\n",
    "\n",
    "\n",
    "def next_feed_dict():\n",
    "    return{\n",
    "        model['random_noise']: np.random.uniform(-1., 1., [50, 100]),\n",
    "        model['real_data']: mnist.train.next_batch(50)[0]\n",
    "    }\n",
    "\n",
    "\n",
    "with tf.Session() as sess:\n",
    "    sess.run(init)\n",
    "    for i in range(20000):\n",
    "        sess.run(model['optimize_g'], feed_dict={})\n",
    "        sess.run(model['optimize_d'], feed_dict={})"
   ]
  }
 ],
 "metadata": {
  "kernelspec": {
   "display_name": "Python 2",
   "language": "python",
   "name": "python2"
  },
  "language_info": {
   "codemirror_mode": {
    "name": "ipython",
    "version": 2.0
   },
   "file_extension": ".py",
   "mimetype": "text/x-python",
   "name": "python",
   "nbconvert_exporter": "python",
   "pygments_lexer": "ipython2",
   "version": "2.7.6"
  }
 },
 "nbformat": 4,
 "nbformat_minor": 0
}